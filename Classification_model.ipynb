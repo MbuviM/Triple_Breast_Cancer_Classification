{
 "cells": [
  {
   "cell_type": "markdown",
   "metadata": {},
   "source": [
    "# Triple Breast Classification Model"
   ]
  },
  {
   "cell_type": "markdown",
   "metadata": {},
   "source": [
    "## 1. Import Necessary Libraries"
   ]
  },
  {
   "cell_type": "code",
   "execution_count": 1,
   "metadata": {},
   "outputs": [],
   "source": [
    "import pandas as pd\n",
    "import matplotlib.pyplot as plt\n",
    "from sklearn.preprocessing import OneHotEncoder\n",
    "from sklearn.model_selection import train_test_split\n",
    "from sklearn.metrics import accuracy_score\n",
    "from sklearn.svm import SVC\n"
   ]
  },
  {
   "cell_type": "markdown",
   "metadata": {},
   "source": [
    "## 2. Load Data"
   ]
  },
  {
   "cell_type": "code",
   "execution_count": 2,
   "metadata": {},
   "outputs": [],
   "source": [
    "train_data = pd.read_csv('training.csv')\n",
    "test_data = pd.read_csv('test.csv')"
   ]
  },
  {
   "cell_type": "code",
   "execution_count": 3,
   "metadata": {},
   "outputs": [
    {
     "data": {
      "text/html": [
       "<div>\n",
       "<style scoped>\n",
       "    .dataframe tbody tr th:only-of-type {\n",
       "        vertical-align: middle;\n",
       "    }\n",
       "\n",
       "    .dataframe tbody tr th {\n",
       "        vertical-align: top;\n",
       "    }\n",
       "\n",
       "    .dataframe thead th {\n",
       "        text-align: right;\n",
       "    }\n",
       "</style>\n",
       "<table border=\"1\" class=\"dataframe\">\n",
       "  <thead>\n",
       "    <tr style=\"text-align: right;\">\n",
       "      <th></th>\n",
       "      <th>patient_id</th>\n",
       "      <th>patient_race</th>\n",
       "      <th>payer_type</th>\n",
       "      <th>patient_state</th>\n",
       "      <th>patient_zip3</th>\n",
       "      <th>patient_age</th>\n",
       "      <th>patient_gender</th>\n",
       "      <th>bmi</th>\n",
       "      <th>breast_cancer_diagnosis_code</th>\n",
       "      <th>breast_cancer_diagnosis_desc</th>\n",
       "      <th>...</th>\n",
       "      <th>disabled</th>\n",
       "      <th>poverty</th>\n",
       "      <th>limited_english</th>\n",
       "      <th>commute_time</th>\n",
       "      <th>health_uninsured</th>\n",
       "      <th>veteran</th>\n",
       "      <th>Ozone</th>\n",
       "      <th>PM25</th>\n",
       "      <th>N02</th>\n",
       "      <th>DiagPeriodL90D</th>\n",
       "    </tr>\n",
       "  </thead>\n",
       "  <tbody>\n",
       "    <tr>\n",
       "      <th>5771</th>\n",
       "      <td>586916</td>\n",
       "      <td>Black</td>\n",
       "      <td>NaN</td>\n",
       "      <td>PA</td>\n",
       "      <td>191</td>\n",
       "      <td>53</td>\n",
       "      <td>F</td>\n",
       "      <td>NaN</td>\n",
       "      <td>C50511</td>\n",
       "      <td>Malig neoplm of lower-outer quadrant of right ...</td>\n",
       "      <td>...</td>\n",
       "      <td>15.802128</td>\n",
       "      <td>20.178723</td>\n",
       "      <td>5.863830</td>\n",
       "      <td>32.800000</td>\n",
       "      <td>6.293617</td>\n",
       "      <td>4.229787</td>\n",
       "      <td>39.061820</td>\n",
       "      <td>8.851610</td>\n",
       "      <td>24.544244</td>\n",
       "      <td>1</td>\n",
       "    </tr>\n",
       "    <tr>\n",
       "      <th>2170</th>\n",
       "      <td>153379</td>\n",
       "      <td>NaN</td>\n",
       "      <td>COMMERCIAL</td>\n",
       "      <td>OR</td>\n",
       "      <td>971</td>\n",
       "      <td>57</td>\n",
       "      <td>F</td>\n",
       "      <td>25.33</td>\n",
       "      <td>1744</td>\n",
       "      <td>Malignant neoplasm of upper-outer quadrant of ...</td>\n",
       "      <td>...</td>\n",
       "      <td>15.951220</td>\n",
       "      <td>9.202439</td>\n",
       "      <td>1.217073</td>\n",
       "      <td>25.175000</td>\n",
       "      <td>5.595122</td>\n",
       "      <td>9.239024</td>\n",
       "      <td>33.375000</td>\n",
       "      <td>4.524903</td>\n",
       "      <td>10.221890</td>\n",
       "      <td>1</td>\n",
       "    </tr>\n",
       "    <tr>\n",
       "      <th>9104</th>\n",
       "      <td>720274</td>\n",
       "      <td>NaN</td>\n",
       "      <td>COMMERCIAL</td>\n",
       "      <td>WA</td>\n",
       "      <td>980</td>\n",
       "      <td>54</td>\n",
       "      <td>F</td>\n",
       "      <td>NaN</td>\n",
       "      <td>C50919</td>\n",
       "      <td>Malignant neoplasm of unsp site of unspecified...</td>\n",
       "      <td>...</td>\n",
       "      <td>9.752830</td>\n",
       "      <td>6.432075</td>\n",
       "      <td>5.094340</td>\n",
       "      <td>31.275472</td>\n",
       "      <td>5.309434</td>\n",
       "      <td>5.807547</td>\n",
       "      <td>36.618644</td>\n",
       "      <td>4.939852</td>\n",
       "      <td>23.393650</td>\n",
       "      <td>1</td>\n",
       "    </tr>\n",
       "    <tr>\n",
       "      <th>9867</th>\n",
       "      <td>269063</td>\n",
       "      <td>White</td>\n",
       "      <td>MEDICAID</td>\n",
       "      <td>IA</td>\n",
       "      <td>516</td>\n",
       "      <td>79</td>\n",
       "      <td>F</td>\n",
       "      <td>NaN</td>\n",
       "      <td>C50919</td>\n",
       "      <td>Malignant neoplasm of unsp site of unspecified...</td>\n",
       "      <td>...</td>\n",
       "      <td>14.740000</td>\n",
       "      <td>9.595000</td>\n",
       "      <td>0.320000</td>\n",
       "      <td>21.805263</td>\n",
       "      <td>5.390000</td>\n",
       "      <td>8.655000</td>\n",
       "      <td>37.042268</td>\n",
       "      <td>6.752691</td>\n",
       "      <td>9.686922</td>\n",
       "      <td>0</td>\n",
       "    </tr>\n",
       "    <tr>\n",
       "      <th>8127</th>\n",
       "      <td>908196</td>\n",
       "      <td>Black</td>\n",
       "      <td>MEDICAID</td>\n",
       "      <td>GA</td>\n",
       "      <td>300</td>\n",
       "      <td>52</td>\n",
       "      <td>F</td>\n",
       "      <td>NaN</td>\n",
       "      <td>C50811</td>\n",
       "      <td>Malignant neoplasm of ovrlp sites of right fem...</td>\n",
       "      <td>...</td>\n",
       "      <td>10.270492</td>\n",
       "      <td>10.775410</td>\n",
       "      <td>4.304918</td>\n",
       "      <td>32.501667</td>\n",
       "      <td>13.040984</td>\n",
       "      <td>6.503279</td>\n",
       "      <td>40.968089</td>\n",
       "      <td>9.488443</td>\n",
       "      <td>19.108904</td>\n",
       "      <td>1</td>\n",
       "    </tr>\n",
       "  </tbody>\n",
       "</table>\n",
       "<p>5 rows × 83 columns</p>\n",
       "</div>"
      ],
      "text/plain": [
       "      patient_id patient_race  payer_type patient_state  patient_zip3  \\\n",
       "5771      586916        Black         NaN            PA           191   \n",
       "2170      153379          NaN  COMMERCIAL            OR           971   \n",
       "9104      720274          NaN  COMMERCIAL            WA           980   \n",
       "9867      269063        White    MEDICAID            IA           516   \n",
       "8127      908196        Black    MEDICAID            GA           300   \n",
       "\n",
       "      patient_age patient_gender    bmi breast_cancer_diagnosis_code  \\\n",
       "5771           53              F    NaN                       C50511   \n",
       "2170           57              F  25.33                         1744   \n",
       "9104           54              F    NaN                       C50919   \n",
       "9867           79              F    NaN                       C50919   \n",
       "8127           52              F    NaN                       C50811   \n",
       "\n",
       "                           breast_cancer_diagnosis_desc  ...   disabled  \\\n",
       "5771  Malig neoplm of lower-outer quadrant of right ...  ...  15.802128   \n",
       "2170  Malignant neoplasm of upper-outer quadrant of ...  ...  15.951220   \n",
       "9104  Malignant neoplasm of unsp site of unspecified...  ...   9.752830   \n",
       "9867  Malignant neoplasm of unsp site of unspecified...  ...  14.740000   \n",
       "8127  Malignant neoplasm of ovrlp sites of right fem...  ...  10.270492   \n",
       "\n",
       "        poverty limited_english commute_time health_uninsured   veteran  \\\n",
       "5771  20.178723        5.863830    32.800000         6.293617  4.229787   \n",
       "2170   9.202439        1.217073    25.175000         5.595122  9.239024   \n",
       "9104   6.432075        5.094340    31.275472         5.309434  5.807547   \n",
       "9867   9.595000        0.320000    21.805263         5.390000  8.655000   \n",
       "8127  10.775410        4.304918    32.501667        13.040984  6.503279   \n",
       "\n",
       "          Ozone      PM25        N02  DiagPeriodL90D  \n",
       "5771  39.061820  8.851610  24.544244               1  \n",
       "2170  33.375000  4.524903  10.221890               1  \n",
       "9104  36.618644  4.939852  23.393650               1  \n",
       "9867  37.042268  6.752691   9.686922               0  \n",
       "8127  40.968089  9.488443  19.108904               1  \n",
       "\n",
       "[5 rows x 83 columns]"
      ]
     },
     "execution_count": 3,
     "metadata": {},
     "output_type": "execute_result"
    }
   ],
   "source": [
    "# Checking a sample of the dataset\n",
    "train_data.sample(5)"
   ]
  },
  {
   "cell_type": "code",
   "execution_count": 4,
   "metadata": {},
   "outputs": [
    {
     "data": {
      "text/html": [
       "<div>\n",
       "<style scoped>\n",
       "    .dataframe tbody tr th:only-of-type {\n",
       "        vertical-align: middle;\n",
       "    }\n",
       "\n",
       "    .dataframe tbody tr th {\n",
       "        vertical-align: top;\n",
       "    }\n",
       "\n",
       "    .dataframe thead th {\n",
       "        text-align: right;\n",
       "    }\n",
       "</style>\n",
       "<table border=\"1\" class=\"dataframe\">\n",
       "  <thead>\n",
       "    <tr style=\"text-align: right;\">\n",
       "      <th></th>\n",
       "      <th>patient_id</th>\n",
       "      <th>patient_race</th>\n",
       "      <th>payer_type</th>\n",
       "      <th>patient_state</th>\n",
       "      <th>patient_zip3</th>\n",
       "      <th>patient_age</th>\n",
       "      <th>patient_gender</th>\n",
       "      <th>bmi</th>\n",
       "      <th>breast_cancer_diagnosis_code</th>\n",
       "      <th>breast_cancer_diagnosis_desc</th>\n",
       "      <th>...</th>\n",
       "      <th>hispanic</th>\n",
       "      <th>disabled</th>\n",
       "      <th>poverty</th>\n",
       "      <th>limited_english</th>\n",
       "      <th>commute_time</th>\n",
       "      <th>health_uninsured</th>\n",
       "      <th>veteran</th>\n",
       "      <th>Ozone</th>\n",
       "      <th>PM25</th>\n",
       "      <th>N02</th>\n",
       "    </tr>\n",
       "  </thead>\n",
       "  <tbody>\n",
       "    <tr>\n",
       "      <th>2932</th>\n",
       "      <td>100266</td>\n",
       "      <td>NaN</td>\n",
       "      <td>MEDICAID</td>\n",
       "      <td>CA</td>\n",
       "      <td>900</td>\n",
       "      <td>59</td>\n",
       "      <td>F</td>\n",
       "      <td>NaN</td>\n",
       "      <td>C50912</td>\n",
       "      <td>Malignant neoplasm of unspecified site of left...</td>\n",
       "      <td>...</td>\n",
       "      <td>45.526154</td>\n",
       "      <td>11.901538</td>\n",
       "      <td>20.760000</td>\n",
       "      <td>14.737500</td>\n",
       "      <td>30.709375</td>\n",
       "      <td>10.341538</td>\n",
       "      <td>3.030769</td>\n",
       "      <td>41.186992</td>\n",
       "      <td>11.166898</td>\n",
       "      <td>21.644261</td>\n",
       "    </tr>\n",
       "    <tr>\n",
       "      <th>4434</th>\n",
       "      <td>495140</td>\n",
       "      <td>NaN</td>\n",
       "      <td>COMMERCIAL</td>\n",
       "      <td>IL</td>\n",
       "      <td>620</td>\n",
       "      <td>63</td>\n",
       "      <td>F</td>\n",
       "      <td>NaN</td>\n",
       "      <td>C50911</td>\n",
       "      <td>Malignant neoplasm of unsp site of right femal...</td>\n",
       "      <td>...</td>\n",
       "      <td>1.740000</td>\n",
       "      <td>18.653333</td>\n",
       "      <td>13.498649</td>\n",
       "      <td>0.243243</td>\n",
       "      <td>30.008333</td>\n",
       "      <td>6.508000</td>\n",
       "      <td>9.977333</td>\n",
       "      <td>39.128294</td>\n",
       "      <td>8.164013</td>\n",
       "      <td>11.707282</td>\n",
       "    </tr>\n",
       "    <tr>\n",
       "      <th>2644</th>\n",
       "      <td>620217</td>\n",
       "      <td>White</td>\n",
       "      <td>MEDICAID</td>\n",
       "      <td>OH</td>\n",
       "      <td>440</td>\n",
       "      <td>58</td>\n",
       "      <td>F</td>\n",
       "      <td>NaN</td>\n",
       "      <td>C50411</td>\n",
       "      <td>Malig neoplm of upper-outer quadrant of right ...</td>\n",
       "      <td>...</td>\n",
       "      <td>4.252632</td>\n",
       "      <td>12.303509</td>\n",
       "      <td>10.991228</td>\n",
       "      <td>1.331579</td>\n",
       "      <td>26.750909</td>\n",
       "      <td>7.594737</td>\n",
       "      <td>7.914035</td>\n",
       "      <td>39.893560</td>\n",
       "      <td>7.673232</td>\n",
       "      <td>15.246437</td>\n",
       "    </tr>\n",
       "    <tr>\n",
       "      <th>1319</th>\n",
       "      <td>413697</td>\n",
       "      <td>Asian</td>\n",
       "      <td>MEDICARE ADVANTAGE</td>\n",
       "      <td>CA</td>\n",
       "      <td>917</td>\n",
       "      <td>62</td>\n",
       "      <td>F</td>\n",
       "      <td>NaN</td>\n",
       "      <td>C50412</td>\n",
       "      <td>Malig neoplasm of upper-outer quadrant of left...</td>\n",
       "      <td>...</td>\n",
       "      <td>47.726087</td>\n",
       "      <td>9.895652</td>\n",
       "      <td>10.515217</td>\n",
       "      <td>12.745652</td>\n",
       "      <td>32.530435</td>\n",
       "      <td>7.263043</td>\n",
       "      <td>3.810870</td>\n",
       "      <td>47.310325</td>\n",
       "      <td>9.595719</td>\n",
       "      <td>20.084231</td>\n",
       "    </tr>\n",
       "    <tr>\n",
       "      <th>1880</th>\n",
       "      <td>953242</td>\n",
       "      <td>NaN</td>\n",
       "      <td>COMMERCIAL</td>\n",
       "      <td>NY</td>\n",
       "      <td>125</td>\n",
       "      <td>24</td>\n",
       "      <td>F</td>\n",
       "      <td>NaN</td>\n",
       "      <td>1749</td>\n",
       "      <td>Malignant neoplasm of breast (female), unspeci...</td>\n",
       "      <td>...</td>\n",
       "      <td>9.939683</td>\n",
       "      <td>12.719048</td>\n",
       "      <td>8.312698</td>\n",
       "      <td>1.463492</td>\n",
       "      <td>30.645000</td>\n",
       "      <td>3.871429</td>\n",
       "      <td>5.630159</td>\n",
       "      <td>39.263883</td>\n",
       "      <td>5.968842</td>\n",
       "      <td>13.904849</td>\n",
       "    </tr>\n",
       "  </tbody>\n",
       "</table>\n",
       "<p>5 rows × 82 columns</p>\n",
       "</div>"
      ],
      "text/plain": [
       "      patient_id patient_race          payer_type patient_state  patient_zip3  \\\n",
       "2932      100266          NaN            MEDICAID            CA           900   \n",
       "4434      495140          NaN          COMMERCIAL            IL           620   \n",
       "2644      620217        White            MEDICAID            OH           440   \n",
       "1319      413697        Asian  MEDICARE ADVANTAGE            CA           917   \n",
       "1880      953242          NaN          COMMERCIAL            NY           125   \n",
       "\n",
       "      patient_age patient_gender  bmi breast_cancer_diagnosis_code  \\\n",
       "2932           59              F  NaN                       C50912   \n",
       "4434           63              F  NaN                       C50911   \n",
       "2644           58              F  NaN                       C50411   \n",
       "1319           62              F  NaN                       C50412   \n",
       "1880           24              F  NaN                         1749   \n",
       "\n",
       "                           breast_cancer_diagnosis_desc  ...   hispanic  \\\n",
       "2932  Malignant neoplasm of unspecified site of left...  ...  45.526154   \n",
       "4434  Malignant neoplasm of unsp site of right femal...  ...   1.740000   \n",
       "2644  Malig neoplm of upper-outer quadrant of right ...  ...   4.252632   \n",
       "1319  Malig neoplasm of upper-outer quadrant of left...  ...  47.726087   \n",
       "1880  Malignant neoplasm of breast (female), unspeci...  ...   9.939683   \n",
       "\n",
       "       disabled    poverty limited_english commute_time  health_uninsured  \\\n",
       "2932  11.901538  20.760000       14.737500    30.709375         10.341538   \n",
       "4434  18.653333  13.498649        0.243243    30.008333          6.508000   \n",
       "2644  12.303509  10.991228        1.331579    26.750909          7.594737   \n",
       "1319   9.895652  10.515217       12.745652    32.530435          7.263043   \n",
       "1880  12.719048   8.312698        1.463492    30.645000          3.871429   \n",
       "\n",
       "       veteran      Ozone       PM25        N02  \n",
       "2932  3.030769  41.186992  11.166898  21.644261  \n",
       "4434  9.977333  39.128294   8.164013  11.707282  \n",
       "2644  7.914035  39.893560   7.673232  15.246437  \n",
       "1319  3.810870  47.310325   9.595719  20.084231  \n",
       "1880  5.630159  39.263883   5.968842  13.904849  \n",
       "\n",
       "[5 rows x 82 columns]"
      ]
     },
     "execution_count": 4,
     "metadata": {},
     "output_type": "execute_result"
    }
   ],
   "source": [
    "test_data.sample(5)"
   ]
  },
  {
   "cell_type": "code",
   "execution_count": 5,
   "metadata": {},
   "outputs": [
    {
     "name": "stdout",
     "output_type": "stream",
     "text": [
      "The shape of the train dataset is (12906, 83)\n",
      "The shape of the test dataset is (5792, 82)\n"
     ]
    }
   ],
   "source": [
    "# Print the shape of the datasets\n",
    "print(f'The shape of the train dataset is {(len(train_data), len(train_data.columns))}')\n",
    "print(f'The shape of the test dataset is {(len(test_data), len(test_data.columns))}')"
   ]
  },
  {
   "cell_type": "markdown",
   "metadata": {},
   "source": [
    "## 3. Feature Engineering"
   ]
  },
  {
   "cell_type": "markdown",
   "metadata": {},
   "source": [
    "### 3.1 Handling Missing Values"
   ]
  },
  {
   "cell_type": "code",
   "execution_count": 6,
   "metadata": {},
   "outputs": [
    {
     "name": "stdout",
     "output_type": "stream",
     "text": [
      "Total number of missing values is 43292\n",
      "Total number of missing values is 19366\n"
     ]
    }
   ],
   "source": [
    "# Check Missing values\n",
    "print(f'Total number of missing values is {train_data.isnull().sum().sum()}')\n",
    "print(f'Total number of missing values is {test_data.isnull().sum().sum()}')"
   ]
  },
  {
   "cell_type": "code",
   "execution_count": 7,
   "metadata": {},
   "outputs": [],
   "source": [
    "# Replace missing values\n",
    "\n",
    "cleaned_train_data = train_data.fillna(method='bfill', axis=0)\n",
    "cleaned_test_data = test_data.fillna(method='bfill', axis=0)"
   ]
  },
  {
   "cell_type": "code",
   "execution_count": 8,
   "metadata": {},
   "outputs": [
    {
     "name": "stdout",
     "output_type": "stream",
     "text": [
      "The sum of null values in the cleaned train dataset is 111\n",
      "The sum of null values in the cleaned test dataset is 114\n"
     ]
    }
   ],
   "source": [
    "# Print the shape of the cleaned datasets\n",
    "print(f'The sum of null values in the cleaned train dataset is {cleaned_train_data.isnull().sum().sum()}')\n",
    "print(f'The sum of null values in the cleaned test dataset is {cleaned_test_data.isnull().sum().sum()}')"
   ]
  },
  {
   "cell_type": "code",
   "execution_count": 9,
   "metadata": {},
   "outputs": [],
   "source": [
    "# Drop the remaining missing values\n",
    "cleaned_train_data.dropna(how='any', axis=0, inplace=True)\n",
    "cleaned_test_data.dropna(how='any', axis=0, inplace=True)"
   ]
  },
  {
   "cell_type": "code",
   "execution_count": 10,
   "metadata": {},
   "outputs": [],
   "source": [
    "# Splitting the data\n",
    "X_train = cleaned_train_data.drop('DiagPeriodL90D', axis=1)\n",
    "y_train = cleaned_train_data['DiagPeriodL90D']"
   ]
  },
  {
   "cell_type": "markdown",
   "metadata": {},
   "source": [
    "### 3.2 One Hot Encoding"
   ]
  },
  {
   "cell_type": "code",
   "execution_count": 11,
   "metadata": {},
   "outputs": [],
   "source": [
    "# One-hot encoding for train data\n",
    "string_columns_train = X_train.select_dtypes(include=['object']).columns.tolist()\n",
    "encoded_train_dataset = pd.get_dummies(X_train, columns=string_columns_train)"
   ]
  },
  {
   "cell_type": "markdown",
   "metadata": {},
   "source": [
    "### 3.3 Correlation Analysis"
   ]
  },
  {
   "cell_type": "code",
   "execution_count": 12,
   "metadata": {},
   "outputs": [
    {
     "ename": "NameError",
     "evalue": "name 'string_columns' is not defined",
     "output_type": "error",
     "traceback": [
      "\u001b[1;31m---------------------------------------------------------------------------\u001b[0m",
      "\u001b[1;31mNameError\u001b[0m                                 Traceback (most recent call last)",
      "Cell \u001b[1;32mIn[12], line 4\u001b[0m\n\u001b[0;32m      1\u001b[0m dependent_variable_train \u001b[38;5;241m=\u001b[39m y_train\n\u001b[0;32m      3\u001b[0m \u001b[38;5;66;03m# Concatenate the encoded datasets with the dependent variable for both train and test datasets\u001b[39;00m\n\u001b[1;32m----> 4\u001b[0m merged_train_df \u001b[38;5;241m=\u001b[39m pd\u001b[38;5;241m.\u001b[39mconcat([X_train\u001b[38;5;241m.\u001b[39mdrop(columns\u001b[38;5;241m=\u001b[39m\u001b[43mstring_columns\u001b[49m), encoded_train_dataset], axis\u001b[38;5;241m=\u001b[39m\u001b[38;5;241m1\u001b[39m)\n\u001b[0;32m      6\u001b[0m \u001b[38;5;66;03m# Calculate the correlation between features and the dependent variable for train and test datasets\u001b[39;00m\n\u001b[0;32m      7\u001b[0m correlation_train \u001b[38;5;241m=\u001b[39m merged_train_df\u001b[38;5;241m.\u001b[39mcorrwith(dependent_variable_train)\n",
      "\u001b[1;31mNameError\u001b[0m: name 'string_columns' is not defined"
     ]
    }
   ],
   "source": [
    "\n",
    "dependent_variable_train = y_train\n",
    "\n",
    "# Concatenate the encoded datasets with the dependent variable for both train and test datasets\n",
    "merged_train_df = pd.concat([X_train.drop(columns=string_columns), encoded_train_dataset], axis=1)\n",
    "\n",
    "# Calculate the correlation between features and the dependent variable for train and test datasets\n",
    "correlation_train = merged_train_df.corrwith(dependent_variable_train)\n",
    "\n",
    "# Print or use the correlation matrices as needed\n",
    "print(\"Correlation with dependent variable for training dataset:\")\n",
    "print(correlation_train)\n",
    "\n"
   ]
  },
  {
   "cell_type": "code",
   "execution_count": null,
   "metadata": {},
   "outputs": [
    {
     "name": "stdout",
     "output_type": "stream",
     "text": [
      "Selected train dataset:\n",
      "360\n"
     ]
    }
   ],
   "source": [
    "# Dropping values with a low correlation\n",
    "\n",
    "# Set the correlation threshold\n",
    "correlation_threshold = 0  # Adjust this threshold as needed\n",
    "\n",
    "# Identify variables with correlation below the threshold\n",
    "low_correlation_vars_train = correlation_train[abs(correlation_train) < correlation_threshold].index\n",
    "\n",
    "# Drop the low correlation variables from both the train and test datasets\n",
    "selected_train_df = merged_train_df.drop(columns=low_correlation_vars_train)\n",
    "\n",
    "# Print or use the selected datasets as needed\n",
    "print(\"Selected train dataset:\")\n",
    "print(len(selected_train_df.columns))\n"
   ]
  },
  {
   "cell_type": "markdown",
   "metadata": {},
   "source": [
    "## 4. Model Creation"
   ]
  },
  {
   "cell_type": "code",
   "execution_count": null,
   "metadata": {},
   "outputs": [],
   "source": [
    "# Initialize SVM\n",
    "svm = SVC()\n",
    "\n",
    "classification_model = svm.fit(selected_train_df, y_train)"
   ]
  },
  {
   "cell_type": "markdown",
   "metadata": {},
   "source": [
    "## 5. Model Prediction and Accuracy"
   ]
  },
  {
   "cell_type": "code",
   "execution_count": null,
   "metadata": {},
   "outputs": [],
   "source": [
    "# Data preprocessing for test data\n",
    "cleaned_test_data = test_data.fillna(method='bfill', axis=0)\n",
    "X_test = cleaned_test_data  # No need to drop 'DiagPeriodL90D' as it's not present in test data\n",
    "string_columns_test = X_test.select_dtypes(include=['object']).columns.tolist()\n",
    "encoded_test_dataset = pd.get_dummies(X_test, columns=string_columns_test)\n",
    "\n",
    "# Drop low correlation variables from test data\n",
    "merged_test_df = pd.concat([X_test.drop(columns=string_columns_test), encoded_test_dataset], axis=1)\n",
    "selected_test_df = merged_test_df.drop(columns=low_correlation_vars_train)"
   ]
  },
  {
   "cell_type": "code",
   "execution_count": null,
   "metadata": {},
   "outputs": [
    {
     "name": "stdout",
     "output_type": "stream",
     "text": [
      "Columns in selected_train_df: Index(['patient_id', 'patient_zip3', 'patient_age', 'bmi', 'population',\n",
      "       'density', 'age_median', 'age_under_10', 'age_10_to_19', 'age_20s',\n",
      "       ...\n",
      "       'Region_West', 'Division_East North Central',\n",
      "       'Division_East South Central', 'Division_Middle Atlantic',\n",
      "       'Division_Mountain', 'Division_New England', 'Division_Pacific',\n",
      "       'Division_South Atlantic', 'Division_West North Central',\n",
      "       'Division_West South Central'],\n",
      "      dtype='object', length=360)\n",
      "Columns in selected_test_df: Index(['patient_id', 'patient_zip3', 'patient_age', 'bmi', 'population',\n",
      "       'density', 'age_median', 'age_under_10', 'age_10_to_19', 'age_20s',\n",
      "       ...\n",
      "       'Region_West', 'Division_East North Central',\n",
      "       'Division_East South Central', 'Division_Middle Atlantic',\n",
      "       'Division_Mountain', 'Division_New England', 'Division_Pacific',\n",
      "       'Division_South Atlantic', 'Division_West North Central',\n",
      "       'Division_West South Central'],\n",
      "      dtype='object', length=341)\n"
     ]
    }
   ],
   "source": [
    "print(\"Columns in selected_train_df:\", selected_train_df.columns)\n",
    "print(\"Columns in selected_test_df:\", selected_test_df.columns)"
   ]
  },
  {
   "cell_type": "code",
   "execution_count": null,
   "metadata": {},
   "outputs": [],
   "source": [
    "# Get the columns present in selected_test_df but not in selected_train_df\n",
    "extra_columns_in_test = set(selected_test_df.columns) - set(selected_train_df.columns)\n",
    "\n",
    "# Drop the extra columns from selected_test_df\n",
    "selected_test_df.drop(columns=extra_columns_in_test, inplace=True)"
   ]
  },
  {
   "cell_type": "code",
   "execution_count": null,
   "metadata": {},
   "outputs": [],
   "source": [
    "# Check for duplicate column names in selected_train_df\n",
    "duplicate_columns_train = selected_train_df.columns[selected_train_df.columns.duplicated()]\n",
    "print(\"Duplicate columns in selected_train_df:\", duplicate_columns_train)\n",
    "\n",
    "# Check for duplicate column names in selected_test_df\n",
    "duplicate_columns_test = selected_test_df.columns[selected_test_df.columns.duplicated()]\n",
    "print(\"Duplicate columns in selected_test_df:\", duplicate_columns_test)\n",
    "\n",
    "# Resolve duplicate column names if any\n",
    "if len(duplicate_columns_train) > 0 or len(duplicate_columns_test) > 0:\n",
    "    # Rename or drop duplicate columns as needed\n",
    "    # For example, you can rename duplicate columns in selected_test_df\n",
    "    selected_test_df = selected_test_df.add_suffix('_test')\n"
   ]
  },
  {
   "cell_type": "code",
   "execution_count": null,
   "metadata": {},
   "outputs": [
    {
     "ename": "ValueError",
     "evalue": "The feature names should match those that were passed during fit.\nFeature names seen at fit time, yet now missing:\n- breast_cancer_diagnosis_code_1759\n- breast_cancer_diagnosis_code_C50\n- breast_cancer_diagnosis_code_C5001\n- breast_cancer_diagnosis_code_C50021\n- breast_cancer_diagnosis_code_C5011\n- ...\n",
     "output_type": "error",
     "traceback": [
      "\u001b[1;31m---------------------------------------------------------------------------\u001b[0m",
      "\u001b[1;31mValueError\u001b[0m                                Traceback (most recent call last)",
      "Cell \u001b[1;32mIn[423], line 5\u001b[0m\n\u001b[0;32m      2\u001b[0m \u001b[38;5;28;01mimport\u001b[39;00m \u001b[38;5;21;01mnumpy\u001b[39;00m \u001b[38;5;28;01mas\u001b[39;00m \u001b[38;5;21;01mnp\u001b[39;00m\n\u001b[0;32m      4\u001b[0m \u001b[38;5;66;03m# Make predictions on the test data\u001b[39;00m\n\u001b[1;32m----> 5\u001b[0m predictions \u001b[38;5;241m=\u001b[39m \u001b[43mclassification_model\u001b[49m\u001b[38;5;241;43m.\u001b[39;49m\u001b[43mpredict\u001b[49m\u001b[43m(\u001b[49m\u001b[43mselected_test_df\u001b[49m\u001b[43m)\u001b[49m\n\u001b[0;32m      7\u001b[0m \u001b[38;5;66;03m# Obtain decision scores for test data\u001b[39;00m\n\u001b[0;32m      8\u001b[0m decision_scores_test \u001b[38;5;241m=\u001b[39m classification_model\u001b[38;5;241m.\u001b[39mdecision_function(selected_test_df)\n",
      "File \u001b[1;32mc:\\Users\\PC\\AppData\\Local\\Programs\\Python\\Python311\\Lib\\site-packages\\sklearn\\svm\\_base.py:820\u001b[0m, in \u001b[0;36mBaseSVC.predict\u001b[1;34m(self, X)\u001b[0m\n\u001b[0;32m    818\u001b[0m     y \u001b[38;5;241m=\u001b[39m np\u001b[38;5;241m.\u001b[39margmax(\u001b[38;5;28mself\u001b[39m\u001b[38;5;241m.\u001b[39mdecision_function(X), axis\u001b[38;5;241m=\u001b[39m\u001b[38;5;241m1\u001b[39m)\n\u001b[0;32m    819\u001b[0m \u001b[38;5;28;01melse\u001b[39;00m:\n\u001b[1;32m--> 820\u001b[0m     y \u001b[38;5;241m=\u001b[39m \u001b[38;5;28;43msuper\u001b[39;49m\u001b[43m(\u001b[49m\u001b[43m)\u001b[49m\u001b[38;5;241;43m.\u001b[39;49m\u001b[43mpredict\u001b[49m\u001b[43m(\u001b[49m\u001b[43mX\u001b[49m\u001b[43m)\u001b[49m\n\u001b[0;32m    821\u001b[0m \u001b[38;5;28;01mreturn\u001b[39;00m \u001b[38;5;28mself\u001b[39m\u001b[38;5;241m.\u001b[39mclasses_\u001b[38;5;241m.\u001b[39mtake(np\u001b[38;5;241m.\u001b[39masarray(y, dtype\u001b[38;5;241m=\u001b[39mnp\u001b[38;5;241m.\u001b[39mintp))\n",
      "File \u001b[1;32mc:\\Users\\PC\\AppData\\Local\\Programs\\Python\\Python311\\Lib\\site-packages\\sklearn\\svm\\_base.py:433\u001b[0m, in \u001b[0;36mBaseLibSVM.predict\u001b[1;34m(self, X)\u001b[0m\n\u001b[0;32m    417\u001b[0m \u001b[38;5;28;01mdef\u001b[39;00m \u001b[38;5;21mpredict\u001b[39m(\u001b[38;5;28mself\u001b[39m, X):\n\u001b[0;32m    418\u001b[0m \u001b[38;5;250m    \u001b[39m\u001b[38;5;124;03m\"\"\"Perform regression on samples in X.\u001b[39;00m\n\u001b[0;32m    419\u001b[0m \n\u001b[0;32m    420\u001b[0m \u001b[38;5;124;03m    For an one-class model, +1 (inlier) or -1 (outlier) is returned.\u001b[39;00m\n\u001b[1;32m   (...)\u001b[0m\n\u001b[0;32m    431\u001b[0m \u001b[38;5;124;03m        The predicted values.\u001b[39;00m\n\u001b[0;32m    432\u001b[0m \u001b[38;5;124;03m    \"\"\"\u001b[39;00m\n\u001b[1;32m--> 433\u001b[0m     X \u001b[38;5;241m=\u001b[39m \u001b[38;5;28;43mself\u001b[39;49m\u001b[38;5;241;43m.\u001b[39;49m\u001b[43m_validate_for_predict\u001b[49m\u001b[43m(\u001b[49m\u001b[43mX\u001b[49m\u001b[43m)\u001b[49m\n\u001b[0;32m    434\u001b[0m     predict \u001b[38;5;241m=\u001b[39m \u001b[38;5;28mself\u001b[39m\u001b[38;5;241m.\u001b[39m_sparse_predict \u001b[38;5;28;01mif\u001b[39;00m \u001b[38;5;28mself\u001b[39m\u001b[38;5;241m.\u001b[39m_sparse \u001b[38;5;28;01melse\u001b[39;00m \u001b[38;5;28mself\u001b[39m\u001b[38;5;241m.\u001b[39m_dense_predict\n\u001b[0;32m    435\u001b[0m     \u001b[38;5;28;01mreturn\u001b[39;00m predict(X)\n",
      "File \u001b[1;32mc:\\Users\\PC\\AppData\\Local\\Programs\\Python\\Python311\\Lib\\site-packages\\sklearn\\svm\\_base.py:613\u001b[0m, in \u001b[0;36mBaseLibSVM._validate_for_predict\u001b[1;34m(self, X)\u001b[0m\n\u001b[0;32m    610\u001b[0m check_is_fitted(\u001b[38;5;28mself\u001b[39m)\n\u001b[0;32m    612\u001b[0m \u001b[38;5;28;01mif\u001b[39;00m \u001b[38;5;129;01mnot\u001b[39;00m \u001b[38;5;28mcallable\u001b[39m(\u001b[38;5;28mself\u001b[39m\u001b[38;5;241m.\u001b[39mkernel):\n\u001b[1;32m--> 613\u001b[0m     X \u001b[38;5;241m=\u001b[39m \u001b[38;5;28;43mself\u001b[39;49m\u001b[38;5;241;43m.\u001b[39;49m\u001b[43m_validate_data\u001b[49m\u001b[43m(\u001b[49m\n\u001b[0;32m    614\u001b[0m \u001b[43m        \u001b[49m\u001b[43mX\u001b[49m\u001b[43m,\u001b[49m\n\u001b[0;32m    615\u001b[0m \u001b[43m        \u001b[49m\u001b[43maccept_sparse\u001b[49m\u001b[38;5;241;43m=\u001b[39;49m\u001b[38;5;124;43m\"\u001b[39;49m\u001b[38;5;124;43mcsr\u001b[39;49m\u001b[38;5;124;43m\"\u001b[39;49m\u001b[43m,\u001b[49m\n\u001b[0;32m    616\u001b[0m \u001b[43m        \u001b[49m\u001b[43mdtype\u001b[49m\u001b[38;5;241;43m=\u001b[39;49m\u001b[43mnp\u001b[49m\u001b[38;5;241;43m.\u001b[39;49m\u001b[43mfloat64\u001b[49m\u001b[43m,\u001b[49m\n\u001b[0;32m    617\u001b[0m \u001b[43m        \u001b[49m\u001b[43morder\u001b[49m\u001b[38;5;241;43m=\u001b[39;49m\u001b[38;5;124;43m\"\u001b[39;49m\u001b[38;5;124;43mC\u001b[39;49m\u001b[38;5;124;43m\"\u001b[39;49m\u001b[43m,\u001b[49m\n\u001b[0;32m    618\u001b[0m \u001b[43m        \u001b[49m\u001b[43maccept_large_sparse\u001b[49m\u001b[38;5;241;43m=\u001b[39;49m\u001b[38;5;28;43;01mFalse\u001b[39;49;00m\u001b[43m,\u001b[49m\n\u001b[0;32m    619\u001b[0m \u001b[43m        \u001b[49m\u001b[43mreset\u001b[49m\u001b[38;5;241;43m=\u001b[39;49m\u001b[38;5;28;43;01mFalse\u001b[39;49;00m\u001b[43m,\u001b[49m\n\u001b[0;32m    620\u001b[0m \u001b[43m    \u001b[49m\u001b[43m)\u001b[49m\n\u001b[0;32m    622\u001b[0m \u001b[38;5;28;01mif\u001b[39;00m \u001b[38;5;28mself\u001b[39m\u001b[38;5;241m.\u001b[39m_sparse \u001b[38;5;129;01mand\u001b[39;00m \u001b[38;5;129;01mnot\u001b[39;00m sp\u001b[38;5;241m.\u001b[39misspmatrix(X):\n\u001b[0;32m    623\u001b[0m     X \u001b[38;5;241m=\u001b[39m sp\u001b[38;5;241m.\u001b[39mcsr_matrix(X)\n",
      "File \u001b[1;32mc:\\Users\\PC\\AppData\\Local\\Programs\\Python\\Python311\\Lib\\site-packages\\sklearn\\base.py:548\u001b[0m, in \u001b[0;36mBaseEstimator._validate_data\u001b[1;34m(self, X, y, reset, validate_separately, **check_params)\u001b[0m\n\u001b[0;32m    483\u001b[0m \u001b[38;5;28;01mdef\u001b[39;00m \u001b[38;5;21m_validate_data\u001b[39m(\n\u001b[0;32m    484\u001b[0m     \u001b[38;5;28mself\u001b[39m,\n\u001b[0;32m    485\u001b[0m     X\u001b[38;5;241m=\u001b[39m\u001b[38;5;124m\"\u001b[39m\u001b[38;5;124mno_validation\u001b[39m\u001b[38;5;124m\"\u001b[39m,\n\u001b[1;32m   (...)\u001b[0m\n\u001b[0;32m    489\u001b[0m     \u001b[38;5;241m*\u001b[39m\u001b[38;5;241m*\u001b[39mcheck_params,\n\u001b[0;32m    490\u001b[0m ):\n\u001b[0;32m    491\u001b[0m \u001b[38;5;250m    \u001b[39m\u001b[38;5;124;03m\"\"\"Validate input data and set or check the `n_features_in_` attribute.\u001b[39;00m\n\u001b[0;32m    492\u001b[0m \n\u001b[0;32m    493\u001b[0m \u001b[38;5;124;03m    Parameters\u001b[39;00m\n\u001b[1;32m   (...)\u001b[0m\n\u001b[0;32m    546\u001b[0m \u001b[38;5;124;03m        validated.\u001b[39;00m\n\u001b[0;32m    547\u001b[0m \u001b[38;5;124;03m    \"\"\"\u001b[39;00m\n\u001b[1;32m--> 548\u001b[0m     \u001b[38;5;28;43mself\u001b[39;49m\u001b[38;5;241;43m.\u001b[39;49m\u001b[43m_check_feature_names\u001b[49m\u001b[43m(\u001b[49m\u001b[43mX\u001b[49m\u001b[43m,\u001b[49m\u001b[43m \u001b[49m\u001b[43mreset\u001b[49m\u001b[38;5;241;43m=\u001b[39;49m\u001b[43mreset\u001b[49m\u001b[43m)\u001b[49m\n\u001b[0;32m    550\u001b[0m     \u001b[38;5;28;01mif\u001b[39;00m y \u001b[38;5;129;01mis\u001b[39;00m \u001b[38;5;28;01mNone\u001b[39;00m \u001b[38;5;129;01mand\u001b[39;00m \u001b[38;5;28mself\u001b[39m\u001b[38;5;241m.\u001b[39m_get_tags()[\u001b[38;5;124m\"\u001b[39m\u001b[38;5;124mrequires_y\u001b[39m\u001b[38;5;124m\"\u001b[39m]:\n\u001b[0;32m    551\u001b[0m         \u001b[38;5;28;01mraise\u001b[39;00m \u001b[38;5;167;01mValueError\u001b[39;00m(\n\u001b[0;32m    552\u001b[0m             \u001b[38;5;124mf\u001b[39m\u001b[38;5;124m\"\u001b[39m\u001b[38;5;124mThis \u001b[39m\u001b[38;5;132;01m{\u001b[39;00m\u001b[38;5;28mself\u001b[39m\u001b[38;5;241m.\u001b[39m\u001b[38;5;18m__class__\u001b[39m\u001b[38;5;241m.\u001b[39m\u001b[38;5;18m__name__\u001b[39m\u001b[38;5;132;01m}\u001b[39;00m\u001b[38;5;124m estimator \u001b[39m\u001b[38;5;124m\"\u001b[39m\n\u001b[0;32m    553\u001b[0m             \u001b[38;5;124m\"\u001b[39m\u001b[38;5;124mrequires y to be passed, but the target y is None.\u001b[39m\u001b[38;5;124m\"\u001b[39m\n\u001b[0;32m    554\u001b[0m         )\n",
      "File \u001b[1;32mc:\\Users\\PC\\AppData\\Local\\Programs\\Python\\Python311\\Lib\\site-packages\\sklearn\\base.py:481\u001b[0m, in \u001b[0;36mBaseEstimator._check_feature_names\u001b[1;34m(self, X, reset)\u001b[0m\n\u001b[0;32m    476\u001b[0m \u001b[38;5;28;01mif\u001b[39;00m \u001b[38;5;129;01mnot\u001b[39;00m missing_names \u001b[38;5;129;01mand\u001b[39;00m \u001b[38;5;129;01mnot\u001b[39;00m unexpected_names:\n\u001b[0;32m    477\u001b[0m     message \u001b[38;5;241m+\u001b[39m\u001b[38;5;241m=\u001b[39m (\n\u001b[0;32m    478\u001b[0m         \u001b[38;5;124m\"\u001b[39m\u001b[38;5;124mFeature names must be in the same order as they were in fit.\u001b[39m\u001b[38;5;130;01m\\n\u001b[39;00m\u001b[38;5;124m\"\u001b[39m\n\u001b[0;32m    479\u001b[0m     )\n\u001b[1;32m--> 481\u001b[0m \u001b[38;5;28;01mraise\u001b[39;00m \u001b[38;5;167;01mValueError\u001b[39;00m(message)\n",
      "\u001b[1;31mValueError\u001b[0m: The feature names should match those that were passed during fit.\nFeature names seen at fit time, yet now missing:\n- breast_cancer_diagnosis_code_1759\n- breast_cancer_diagnosis_code_C50\n- breast_cancer_diagnosis_code_C5001\n- breast_cancer_diagnosis_code_C50021\n- breast_cancer_diagnosis_code_C5011\n- ...\n"
     ]
    }
   ],
   "source": [
    "from sklearn.metrics import roc_curve, roc_auc_score\n",
    "import numpy as np\n",
    "\n",
    "# Make predictions on the test data\n",
    "predictions = classification_model.predict(selected_test_df)\n",
    "\n",
    "# Obtain decision scores for test data\n",
    "decision_scores_test = classification_model.decision_function(selected_test_df)\n",
    "\n",
    "# Convert decision scores to probabilities using a sigmoid function\n",
    "predicted_probabilities_test = 1 / (1 + np.exp(-decision_scores_test))\n",
    "\n",
    "# Calculate the ROC curve and AUC for the test data\n",
    "fpr, tpr, thresholds = roc_curve(predictions, predicted_probabilities_test)\n",
    "auc_score = roc_auc_score(predictions, predicted_probabilities_test)\n",
    "\n",
    "# Plot ROC curve\n",
    "plt.figure(figsize=(8, 6))\n",
    "plt.plot(fpr, tpr, color='blue', lw=2, label=f'ROC Curve (AUC = {auc_score:.2f})')\n",
    "plt.plot([0, 1], [0, 1], color='gray', linestyle='--')\n",
    "plt.xlim([0.0, 1.0])\n",
    "plt.ylim([0.0, 1.05])\n",
    "plt.xlabel('False Positive Rate')\n",
    "plt.ylabel('True Positive Rate')\n",
    "plt.title('Receiver Operating Characteristic (ROC) Curve')\n",
    "plt.legend(loc='lower right')\n",
    "plt.show()\n",
    "\n"
   ]
  },
  {
   "cell_type": "code",
   "execution_count": null,
   "metadata": {},
   "outputs": [],
   "source": []
  }
 ],
 "metadata": {
  "kernelspec": {
   "display_name": "Python 3",
   "language": "python",
   "name": "python3"
  },
  "language_info": {
   "codemirror_mode": {
    "name": "ipython",
    "version": 3
   },
   "file_extension": ".py",
   "mimetype": "text/x-python",
   "name": "python",
   "nbconvert_exporter": "python",
   "pygments_lexer": "ipython3",
   "version": "3.11.4"
  }
 },
 "nbformat": 4,
 "nbformat_minor": 2
}
